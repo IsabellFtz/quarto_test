{
 "cells": [
  {
   "cell_type": "markdown",
   "id": "657c2bd8",
   "metadata": {},
   "source": [
    "---\n",
    "title: \"About\"\n",
    "jupyter: quarto_venv\n",
    "---\n",
    "\n",
    "About this site"
   ]
  }
 ],
 "metadata": {
  "kernelspec": {
   "display_name": "quarto_venv",
   "language": "python",
   "name": "quarto_venv",
   "path": "/Users/homefolder/Library/Jupyter/kernels/quarto_venv"
  },
  "language_info": {
   "codemirror_mode": {
    "name": "ipython",
    "version": 3
   },
   "file_extension": ".py",
   "mimetype": "text/x-python",
   "name": "python",
   "nbconvert_exporter": "python",
   "pygments_lexer": "ipython3",
   "version": "3.10.8"
  }
 },
 "nbformat": 4,
 "nbformat_minor": 5
}
